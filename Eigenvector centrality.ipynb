{
 "cells": [
  {
   "cell_type": "code",
   "execution_count": 3,
   "metadata": {},
   "outputs": [],
   "source": [
    "import networkx as nx\n",
    "import matplotlib.pyplot as plt\n",
    "import pandas as pd\n",
    "from math import sqrt\n",
    "import numpy as np"
   ]
  },
  {
   "cell_type": "code",
   "execution_count": 4,
   "metadata": {},
   "outputs": [],
   "source": [
    "G=nx.Graph()"
   ]
  },
  {
   "cell_type": "code",
   "execution_count": 5,
   "metadata": {},
   "outputs": [],
   "source": [
    "G.add_nodes_from([1,2,3,4,5,6,7])"
   ]
  },
  {
   "cell_type": "code",
   "execution_count": 6,
   "metadata": {},
   "outputs": [],
   "source": [
    "G.add_edge(1,0)\n",
    "G.add_edge(1,2)\n",
    "G.add_edge(0,2)\n",
    "G.add_edge(0,3)\n",
    "G.add_edge(2,3)\n",
    "G.add_edge(3,4)\n",
    "G.add_edge(4,5)\n",
    "G.add_edge(5,6)\n",
    "G.add_edge(5,7)\n",
    "G.add_edge(6,7)\n"
   ]
  },
  {
   "cell_type": "code",
   "execution_count": 7,
   "metadata": {},
   "outputs": [
    {
     "data": {
      "image/png": "[encoded data removed]",
      "text/plain": [
       "<matplotlib.figure.Figure at 0x2774f2750b8>"
      ]
     },
     "metadata": {},
     "output_type": "display_data"
    }
   ],
   "source": [
    "nx.draw(G,with_labels=True)"
   ]
  },
  {
   "cell_type": "code",
   "execution_count": 8,
   "metadata": {},
   "outputs": [],
   "source": [
    "\n",
    "def eigenvector_closeness(graph,itterations):\n",
    "    adjancecy_matrix = nx.adjacency_matrix(G, nodelist=range(len(G.nodes()))).toarray()\n",
    "    #init the degrees if the default value is one\n",
    "    # if edges have value should replace the values with ones \n",
    "    init_value = 1\n",
    "    degrees = []\n",
    "    normalized_values = []\n",
    "    degrees.append(np.ones((len(graph.nodes()),init_value)))\n",
    "    \n",
    "\n",
    "    #for should stay here \n",
    "    for i in range(itterations):\n",
    "        dot_matrix = adjancecy_matrix.dot(degrees[len(degrees)-1])\n",
    "        powered_matrix = np.power(dot_matrix,2)\n",
    "        normalized_values.append(sqrt(powered_matrix.sum()))\n",
    "        degrees.append(dot_matrix / sqrt(powered_matrix.sum()))\n",
    "    return (degrees , normalized_values)\n"
   ]
  },
  {
   "cell_type": "code",
   "execution_count": 9,
   "metadata": {},
   "outputs": [
    {
     "data": {
      "text/plain": [
       "([array([[1.],\n",
       "         [1.],\n",
       "         [1.],\n",
       "         [1.],\n",
       "         [1.],\n",
       "         [1.],\n",
       "         [1.],\n",
       "         [1.]]), array([[0.41602515],\n",
       "         [0.2773501 ],\n",
       "         [0.41602515],\n",
       "         [0.41602515],\n",
       "         [0.2773501 ],\n",
       "         [0.41602515],\n",
       "         [0.2773501 ],\n",
       "         [0.2773501 ]]), array([[0.42761799],\n",
       "         [0.32071349],\n",
       "         [0.42761799],\n",
       "         [0.42761799],\n",
       "         [0.32071349],\n",
       "         [0.32071349],\n",
       "         [0.26726124],\n",
       "         [0.26726124]]), array([[0.44888612],\n",
       "         [0.32646263],\n",
       "         [0.44888612],\n",
       "         [0.44888612],\n",
       "         [0.28565481],\n",
       "         [0.32646263],\n",
       "         [0.22444306],\n",
       "         [0.22444306]]), array([[0.46432174],\n",
       "         [0.34050261],\n",
       "         [0.46432174],\n",
       "         [0.44884435],\n",
       "         [0.29407044],\n",
       "         [0.27859305],\n",
       "         [0.20894478],\n",
       "         [0.20894478]])],\n",
       " [7.211102550927978,\n",
       "  2.5943726083138543,\n",
       "  2.6197055450674496,\n",
       "  2.6366089795241874])"
      ]
     },
     "execution_count": 9,
     "metadata": {},
     "output_type": "execute_result"
    }
   ],
   "source": [
    "eigenvector_closeness(G , 4)\n"
   ]
  }
 ],
 "metadata": {
  "kernelspec": {
   "display_name": "Python 3",
   "language": "python",
   "name": "python3"
  },
  "language_info": {
   "codemirror_mode": {
    "name": "ipython",
    "version": 3
   },
   "file_extension": ".py",
   "mimetype": "text/x-python",
   "name": "python",
   "nbconvert_exporter": "python",
   "pygments_lexer": "ipython3",
   "version": "3.6.4"
  }
 },
 "nbformat": 4,
 "nbformat_minor": 2
}

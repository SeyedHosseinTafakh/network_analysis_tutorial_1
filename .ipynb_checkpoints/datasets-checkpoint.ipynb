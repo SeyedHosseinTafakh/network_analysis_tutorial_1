{
 "cells": [
  {
   "cell_type": "markdown",
   "metadata": {},
   "source": [
    "# load datasets"
   ]
  },
  {
   "cell_type": "markdown",
   "metadata": {},
   "source": [
    "#### for .txt file"
   ]
  },
  {
   "cell_type": "code",
   "execution_count": 1,
   "metadata": {},
   "outputs": [],
   "source": [
    "import networkx"
   ]
  },
  {
   "cell_type": "code",
   "execution_count": 5,
   "metadata": {},
   "outputs": [
    {
     "name": "stdout",
     "output_type": "stream",
     "text": [
      "Name: \n",
      "Type: Graph\n",
      "Number of nodes: 4039\n",
      "Number of edges: 88234\n",
      "Average degree:  43.6910\n"
     ]
    }
   ],
   "source": [
    "myGraph = networkx.read_edgelist('facebook_combined.txt')\n"
   ]
  },
  {
   "cell_type": "markdown",
   "metadata": {},
   "source": [
    "#### for .net and .pajek"
   ]
  },
  {
   "cell_type": "code",
   "execution_count": 8,
   "metadata": {},
   "outputs": [
    {
     "name": "stdout",
     "output_type": "stream",
     "text": [
      "Name: \n",
      "Type: MultiDiGraph\n",
      "Number of nodes: 35\n",
      "Number of edges: 118\n",
      "Average in degree:   3.3714\n",
      "Average out degree:   3.3714\n"
     ]
    }
   ],
   "source": [
    "myGraph = networkx.read_pajek('football.net')\n",
    "print(networkx.info(myGraph))"
   ]
  },
  {
   "cell_type": "markdown",
   "metadata": {},
   "source": [
    "#### for graphml files "
   ]
  },
  {
   "cell_type": "code",
   "execution_count": 9,
   "metadata": {},
   "outputs": [
    {
     "name": "stdout",
     "output_type": "stream",
     "text": [
      "Name: \n",
      "Type: DiGraph\n",
      "Number of nodes: 921\n",
      "Number of edges: 1081\n",
      "Average in degree:   1.1737\n",
      "Average out degree:   1.1737\n"
     ]
    }
   ],
   "source": [
    "myGraph = networkx.read_graphml('vecwiki-20091230-manual-coding.graphml')\n",
    "print(networkx.info(myGraph))"
   ]
  },
  {
   "cell_type": "markdown",
   "metadata": {},
   "source": [
    "#### for .gml files"
   ]
  },
  {
   "cell_type": "code",
   "execution_count": 18,
   "metadata": {},
   "outputs": [
    {
     "name": "stdout",
     "output_type": "stream",
     "text": [
      "Name: \n",
      "Type: Graph\n",
      "Number of nodes: 22963\n",
      "Number of edges: 48436\n",
      "Average degree:   4.2186\n"
     ]
    }
   ],
   "source": [
    "myGraph = networkx.read_gml('internet_routers-22july06.gml')\n",
    "print(networkx.info(myGraph))"
   ]
  },
  {
   "cell_type": "markdown",
   "metadata": {},
   "source": [
    "#### networkx datasets"
   ]
  },
  {
   "cell_type": "code",
   "execution_count": 20,
   "metadata": {},
   "outputs": [
    {
     "name": "stdout",
     "output_type": "stream",
     "text": [
      "Name: Zachary's Karate Club\n",
      "Type: Graph\n",
      "Number of nodes: 34\n",
      "Number of edges: 78\n",
      "Average degree:   4.5882\n"
     ]
    }
   ],
   "source": [
    "graph = networkx.nx.karate_club_graph()\n",
    "print(networkx.info(graph))"
   ]
  }
 ],
 "metadata": {
  "kernelspec": {
   "display_name": "Python 3",
   "language": "python",
   "name": "python3"
  },
  "language_info": {
   "codemirror_mode": {
    "name": "ipython",
    "version": 3
   },
   "file_extension": ".py",
   "mimetype": "text/x-python",
   "name": "python",
   "nbconvert_exporter": "python",
   "pygments_lexer": "ipython3",
   "version": "3.7.1"
  }
 },
 "nbformat": 4,
 "nbformat_minor": 4
}
